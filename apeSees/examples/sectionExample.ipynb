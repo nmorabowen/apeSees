{
 "cells": [
  {
   "cell_type": "code",
   "execution_count": null,
   "id": "e0068ee1",
   "metadata": {},
   "outputs": [],
   "source": [
    "from apeSees.materials import Material\n",
    "from apeSees.section import RectangularColumnSection\n",
    "import matplotlib.pyplot as plt\n",
    "\n",
    "# Define materials\n",
    "core = Material(\"Concrete02\", 1, 30.0, 0.002, 0.0, 0.006, 0.1, 30.0, 2.0)\n",
    "cover = Material(\"Concrete02\", 2, 25.0, 0.002, 0.0, 0.004, 0.1, 25.0, 2.0)\n",
    "steel = Material(\"Steel02\", 3, 420.0, 200000.0, 0.01, 20.0, 0.925, 0.15)\n",
    "\n",
    "# Create section\n",
    "section = RectangularColumnSection(\n",
    "    B=300.0, H=400.0, cover=30.0,\n",
    "    material_core=core, material_cover=cover, steel_material=steel,\n",
    "    section_tag=1,\n",
    "    number_of_rebars_along_B=3, number_of_rebars_along_H=4,\n",
    "    phi=20.0, G=12500.0\n",
    ")\n",
    "\n",
    "# Moment-curvature analysis (composite class)\n",
    "ax, result = section.moment_curvature.plot(\n",
    "    axial_load=-1000000.0,  # -1 MN compression\n",
    "    max_curvature=0.005,\n",
    "    number_of_points=200\n",
    ")\n",
    "plt.show()\n",
    "\n",
    "# Save results\n",
    "result.save('mc_analysis.npz')\n",
    "\n",
    "# Plot fiber state at peak moment\n",
    "peak_step = np.argmax(np.abs(result.moments))\n",
    "ax_fibers, _ = section.moment_curvature.plot_fibers(\n",
    "    axial_load=-1000000.0,\n",
    "    step=peak_step,\n",
    "    color_by='strain'\n",
    ")\n",
    "plt.show()\n",
    "\n",
    "# Compare multiple axial loads\n",
    "fig, ax = plt.subplots(figsize=(10, 6))\n",
    "for P in [-2e6, -1e6, -0.5e6, 0]:\n",
    "    section.moment_curvature.plot(\n",
    "        axial_load=P,\n",
    "        ax=ax,\n",
    "        label=f'P = {P/1e6:.1f} MN'\n",
    "    )\n",
    "plt.show()"
   ]
  }
 ],
 "metadata": {
  "language_info": {
   "name": "python"
  }
 },
 "nbformat": 4,
 "nbformat_minor": 5
}
